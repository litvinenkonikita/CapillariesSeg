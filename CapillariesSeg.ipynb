{
 "cells": [
  {
   "cell_type": "code",
   "execution_count": 1,
   "id": "891fe7e6-7b7e-4627-b322-9636870a8803",
   "metadata": {},
   "outputs": [
    {
     "name": "stdout",
     "output_type": "stream",
     "text": [
      "torch.cuda.is_available(): True\n",
      "torch.cuda.device_count(): 1\n",
      "torch.cuda.current_device(): 0\n",
      "torch.cuda.get_device_name(): NVIDIA GeForce RTX 3090\n",
      "torch.cuda.get_device_properties(): _CudaDeviceProperties(name='NVIDIA GeForce RTX 3090', major=8, minor=6, total_memory=24575MB, multi_processor_count=82)\n",
      "torch.cuda.get_device_capability(): (8, 6)\n"
     ]
    }
   ],
   "source": [
    "\n",
    "import os\n",
    "import torch\n",
    "\n",
    "def test_cuda():\n",
    "    print(f'torch.cuda.is_available(): {torch.cuda.is_available()}')\n",
    "    print(f'torch.cuda.device_count(): {torch.cuda.device_count()}')\n",
    "    print(f'torch.cuda.current_device(): {torch.cuda.current_device()}')\n",
    "    print(f'torch.cuda.get_device_name(): {torch.cuda.get_device_name()}')\n",
    "    print(f'torch.cuda.get_device_properties(): {torch.cuda.get_device_properties(torch.cuda.current_device())}')\n",
    "    print(f'torch.cuda.get_device_capability(): {torch.cuda.get_device_capability()}')\n",
    "\n",
    "test_cuda()"
   ]
  },
  {
   "cell_type": "code",
   "execution_count": 3,
   "id": "9b465efc-7b06-412b-b003-3698ece46e83",
   "metadata": {
    "editable": true,
    "slideshow": {
     "slide_type": ""
    },
    "tags": []
   },
   "outputs": [
    {
     "name": "stdout",
     "output_type": "stream",
     "text": [
      "C:\\Users\\n.litvinenko\\PycharmProjects\\CapillariesSeg\n"
     ]
    }
   ],
   "source": [
    "print(os.getcwd())"
   ]
  },
  {
   "cell_type": "code",
   "execution_count": null,
   "id": "5f2c5e38-dc13-4cd3-ab80-83102bd1657b",
   "metadata": {},
   "outputs": [],
   "source": []
  }
 ],
 "metadata": {
  "kernelspec": {
   "display_name": "Python 3 (ipykernel)",
   "language": "python",
   "name": "python3"
  },
  "language_info": {
   "codemirror_mode": {
    "name": "ipython",
    "version": 3
   },
   "file_extension": ".py",
   "mimetype": "text/x-python",
   "name": "python",
   "nbconvert_exporter": "python",
   "pygments_lexer": "ipython3",
   "version": "3.10.11"
  }
 },
 "nbformat": 4,
 "nbformat_minor": 5
}
